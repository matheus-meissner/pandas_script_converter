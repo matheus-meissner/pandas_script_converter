{
 "cells": [
  {
   "cell_type": "markdown",
   "metadata": {},
   "source": [
    "##### Pandas Script Converter"
   ]
  },
  {
   "cell_type": "markdown",
   "metadata": {},
   "source": [
    "##### Importações"
   ]
  },
  {
   "cell_type": "code",
   "execution_count": 174,
   "metadata": {},
   "outputs": [],
   "source": [
    "import pandas as pd\n",
    "import pdfplumber"
   ]
  },
  {
   "cell_type": "markdown",
   "metadata": {},
   "source": [
    "##### Extrair dados de arquivos pdf"
   ]
  },
  {
   "cell_type": "code",
   "execution_count": 175,
   "metadata": {},
   "outputs": [],
   "source": [
    "# Abra o PDF e extraia o texto\n",
    "def extract_pdf_to_text(pdf_path):\n",
    "    text_data = []\n",
    "    with pdfplumber.open(pdf_path) as pdf:\n",
    "        for page in pdf.pages:\n",
    "            text_data.append(page.extract_text())\n",
    "    # print(text_data)\n",
    "    return text_data"
   ]
  },
  {
   "cell_type": "markdown",
   "metadata": {},
   "source": [
    "##### Transforma texto em dataframe"
   ]
  },
  {
   "cell_type": "code",
   "execution_count": 176,
   "metadata": {},
   "outputs": [],
   "source": [
    "# Transforme o texto em um DataFrame do Pandas\n",
    "def convert_text_to_dataframe(text_data):\n",
    "    data = []\n",
    "    for page in text_data:\n",
    "        for line in page.split('\\n'):\n",
    "            data.append(line.split('\\t'))\n",
    "    \n",
    "    # Converta os dados em um DataFrame do Pandas\n",
    "    df = pd.DataFrame(data)\n",
    "    return df"
   ]
  },
  {
   "cell_type": "markdown",
   "metadata": {},
   "source": [
    "##### Remove linhas desnecessárias"
   ]
  },
  {
   "cell_type": "code",
   "execution_count": 177,
   "metadata": {},
   "outputs": [],
   "source": [
    "# Função para remover as linhas desnecessárias\n",
    "def remove_unnecessary_rows(df, start_row, end_row):\n",
    "    # Remove as linhas de start_row até end_row (não inclusivo)\n",
    "    df_cleaned = df.drop(df.index[start_row:end_row])\n",
    "    \n",
    "    # Verifica se a primeira linha contém apenas \"0\" e, se sim, remove-a\n",
    "    if df_cleaned.iloc[0].isna().all() or (df_cleaned.iloc[0] == \"0\").all():\n",
    "        df_cleaned = df_cleaned.drop(df_cleaned.index[0])\n",
    "    \n",
    "    # Redefine o índice sem adicionar a coluna de índice extra\n",
    "    df_cleaned = df_cleaned.reset_index(drop=True)\n",
    "\n",
    "    return df_cleaned"
   ]
  },
  {
   "cell_type": "markdown",
   "metadata": {},
   "source": [
    "##### Renomeia primeira linha"
   ]
  },
  {
   "cell_type": "code",
   "execution_count": 178,
   "metadata": {},
   "outputs": [],
   "source": [
    "# Função para renomear a célula \"A1\"\n",
    "def rename_first_cell(df, new_value):\n",
    "    \"\"\"\n",
    "    Renomeia o conteúdo da célula \"A1\" (primeira célula) no DataFrame.\n",
    "\n",
    "    Args:\n",
    "    df (DataFrame): O DataFrame a ser atualizado.\n",
    "    new_value (str): O novo valor para a célula \"A1\".\n",
    "\n",
    "    Returns:\n",
    "    DataFrame: O DataFrame atualizado com o novo valor na célula \"A1\".\n",
    "    \"\"\"\n",
    "    # Renomeia o cabeçalho da primeira coluna (célula A1)\n",
    "    df.columns = [new_value] + list(df.columns[1:])\n",
    "    return df"
   ]
  },
  {
   "cell_type": "markdown",
   "metadata": {},
   "source": [
    "##### Salva dataframe em excel"
   ]
  },
  {
   "cell_type": "code",
   "execution_count": 179,
   "metadata": {},
   "outputs": [],
   "source": [
    "# Salve o DataFrame em um arquivo Excel\n",
    "def save_dataframe_to_excel(df, output_path):\n",
    "    df.to_excel(output_path, index=False)"
   ]
  },
  {
   "cell_type": "markdown",
   "metadata": {},
   "source": [
    "##### Caminho de entrada e saída"
   ]
  },
  {
   "cell_type": "code",
   "execution_count": 180,
   "metadata": {},
   "outputs": [],
   "source": [
    "# Caminho do seu arquivo PDF\n",
    "pdf_path = r\"C:\\Users\\matheus_meissner\\Desktop\\github\\script_converter\\tests\\Script Irmão do Jorel.pdf\"\n",
    "# Caminho de saída do arquivo Excel\n",
    "output_path = r\"C:\\Users\\matheus_meissner\\Desktop\\github\\script_converter\\tests\\resultados\\teste1.xlsx\""
   ]
  },
  {
   "cell_type": "markdown",
   "metadata": {},
   "source": [
    "##### Chama as funções"
   ]
  },
  {
   "cell_type": "code",
   "execution_count": 181,
   "metadata": {},
   "outputs": [
    {
     "name": "stdout",
     "output_type": "stream",
     "text": [
      "Dados extraídos e salvos em C:\\Users\\matheus_meissner\\Desktop\\github\\script_converter\\tests\\resultados\\teste1.xlsx\n"
     ]
    }
   ],
   "source": [
    "# Executa as funções\n",
    "text_data = extract_pdf_to_text(pdf_path)\n",
    "df = convert_text_to_dataframe(text_data)\n",
    "\n",
    "# Remove as linhas 1 a 17 (Python é indexado a partir de 0, por isso usamos 0:17)\n",
    "df_cleaned = remove_unnecessary_rows(df, 0, 17)\n",
    "\n",
    "# Renomeia o cabeçalho da primeira coluna (célula A1)\n",
    "df_cleaned = rename_first_cell(df_cleaned, \"Characters\")\n",
    "\n",
    "# Salva o DataFrame limpo em um arquivo Excel\n",
    "save_dataframe_to_excel(df_cleaned, output_path)\n",
    "\n",
    "print(f\"Dados extraídos e salvos em {output_path}\")"
   ]
  }
 ],
 "metadata": {
  "kernelspec": {
   "display_name": "Python 3",
   "language": "python",
   "name": "python3"
  },
  "language_info": {
   "codemirror_mode": {
    "name": "ipython",
    "version": 3
   },
   "file_extension": ".py",
   "mimetype": "text/x-python",
   "name": "python",
   "nbconvert_exporter": "python",
   "pygments_lexer": "ipython3",
   "version": "3.12.4"
  }
 },
 "nbformat": 4,
 "nbformat_minor": 2
}
